{
 "cells": [
  {
   "cell_type": "markdown",
   "metadata": {},
   "source": [
    "# FT_Linear_Regression\n",
    "### An Introduction to Machine Learning"
   ]
  },
  {
   "cell_type": "markdown",
   "metadata": {},
   "source": [
    "#### Packages used\n",
    "- **pandas** to read_csv\n",
    "- **matplotlib** for data visualization\n",
    "- **seaborn** for matplotlib additions"
   ]
  },
  {
   "cell_type": "markdown",
   "metadata": {},
   "source": [
    "# Assignment"
   ]
  },
  {
   "cell_type": "markdown",
   "metadata": {},
   "source": [
    "### 1.\n",
    "Predict the price of a car for a given mileage. When you launch the program, it should prompt you for a mileage, and then give you back the estimated price for that mileage. The programm will use the following hypothesis\n",
    "\n",
    "### $estimatedPrice(mileage) = \\theta_0 + (\\theta_1 * mileage)$"
   ]
  },
  {
   "cell_type": "code",
   "execution_count": 1,
   "metadata": {},
   "outputs": [],
   "source": [
    "# Initializing Theta- and Theta1\n",
    "t0 = 8000\n",
    "t1 = -2"
   ]
  },
  {
   "cell_type": "code",
   "execution_count": 2,
   "metadata": {},
   "outputs": [],
   "source": [
    "# Calculate estimated price given the hypothesis\n",
    "def estimatedPrice(mileage):\n",
    "    return(t0 + t1*mileage)\n",
    "\n",
    "# Prompt user for mileage, return estimated price for that mileage\n",
    "def promptUser():\n",
    "    tmp = float(input('Mileage '))\n",
    "    print('Estimated Price: ', round(estimatedPrice(tmp),2), '$')"
   ]
  },
  {
   "cell_type": "code",
   "execution_count": 3,
   "metadata": {},
   "outputs": [
    {
     "name": "stdout",
     "output_type": "stream",
     "text": [
      "Mileage 5670\n",
      "Estimated Price:  -3340.0 $\n"
     ]
    }
   ],
   "source": [
    "promptUser()"
   ]
  },
  {
   "cell_type": "markdown",
   "metadata": {},
   "source": [
    "### 2.\n",
    "Read the data, perform a linear regression and save the variables $\\theta_0$ and $\\theta_1$ for part 1.\n",
    "\n",
    "You will use the following formulas and choose a value for $m$:\n",
    "\n",
    "### $tmp\\theta_0 = learningRate * \\frac{1}{m}\\sum_{i=0}^{m-1}(estimatedPrice(mileage[i] - price[i])$\n",
    "\n",
    "### $tmp\\theta_1 = learningRate * \\frac{1}{m}\\sum_{i=0}^{m-1}(estimatedPrice(mileage[i] - price[i])*mileage[i]$\n",
    "\n",
    "Don't forget to simultaneously update $\\theta_0$ and $\\theta_1$"
   ]
  },
  {
   "cell_type": "code",
   "execution_count": 4,
   "metadata": {},
   "outputs": [],
   "source": [
    "import pandas as pd\n",
    "data = pd.read_csv('data.csv')"
   ]
  },
  {
   "cell_type": "markdown",
   "metadata": {},
   "source": [
    "## Linear Regression from scratch\n",
    "### $Y = \\theta_0 + \\theta_1X$\n",
    "## $\\theta_1 = \\frac{\\sum_{i=1}^{m}(x_i-\\bar{x})(y_i-\\bar{y})}{\\sum_{i=1}^{m}(x_i-\\bar{x})^2}$\n",
    "### $\\theta_0 = \\bar{y}-\\theta_1\\bar{x}$"
   ]
  },
  {
   "cell_type": "code",
   "execution_count": 5,
   "metadata": {},
   "outputs": [],
   "source": [
    "def linreg(data):\n",
    "    X = data.km\n",
    "    Y = data.price\n",
    "    \n",
    "    x_bar = sum(X)/len(X)\n",
    "    y_bar = sum(Y)/len(Y)\n",
    "    \n",
    "    t1 = sum((X-x_bar)*(Y-y_bar))/sum((X-x_bar)*(X-x_bar))\n",
    "    t0 = y_bar - t1*x_bar\n",
    "    \n",
    "    return(t0, t1)"
   ]
  },
  {
   "cell_type": "code",
   "execution_count": 6,
   "metadata": {},
   "outputs": [
    {
     "data": {
      "text/plain": [
       "(8499.599649933216, -0.0214489635917023)"
      ]
     },
     "execution_count": 6,
     "metadata": {},
     "output_type": "execute_result"
    }
   ],
   "source": [
    "# Calculate Theta0 and Theta1 using OLS\n",
    "t0, t1 = linreg(data)\n",
    "t0, t1"
   ]
  },
  {
   "cell_type": "markdown",
   "metadata": {},
   "source": [
    "## Visualization"
   ]
  },
  {
   "cell_type": "code",
   "execution_count": 7,
   "metadata": {},
   "outputs": [],
   "source": [
    "# Matplotlib for additional customization\n",
    "from matplotlib import pyplot as plt\n",
    "%matplotlib inline\n",
    "# Seaborn for plotting and styling\n",
    "import seaborn as sns\n",
    "# Set theme\n",
    "sns.set_style('whitegrid')\n",
    "# Estimated Price for the dataset range\n",
    "abline_values = [t1 * i + t0 for i in data.km]"
   ]
  },
  {
   "cell_type": "code",
   "execution_count": 8,
   "metadata": {},
   "outputs": [
    {
     "data": {
      "text/plain": [
       "(0, 253364.14921389337)"
      ]
     },
     "execution_count": 8,
     "metadata": {},
     "output_type": "execute_result"
    },
    {
     "data": {
      "image/png": "[encoded data removed]",
      "text/plain": [
       "<Figure size 360x360 with 1 Axes>"
      ]
     },
     "metadata": {},
     "output_type": "display_data"
    }
   ],
   "source": [
    "# Scatter plot\n",
    "sns.lmplot(x='km', y='price', data=data, fit_reg=False)\n",
    "# Calculated regression line\n",
    "plt.plot(data.km, abline_values, 'orange')\n",
    "# Aesthetics\n",
    "plt.ylim(0, None)\n",
    "plt.xlim(0, None)"
   ]
  },
  {
   "cell_type": "markdown",
   "metadata": {},
   "source": [
    "## Gradient Descent\n",
    "To improve algorithm performance we need to scale the variables first"
   ]
  },
  {
   "cell_type": "code",
   "execution_count": 9,
   "metadata": {},
   "outputs": [],
   "source": [
    "def normalize(data):\n",
    "    dataNew = data\n",
    "    for column in data:\n",
    "        mean = sum(data[column])/len(data[column])\n",
    "        sd = data[column]-mean\n",
    "        sd = (sum(sd*sd)/(len(sd)-1))**(0.5)\n",
    "        dataNew[column] = (data[column]-mean)/sd\n",
    "    return(dataNew)"
   ]
  },
  {
   "cell_type": "code",
   "execution_count": 10,
   "metadata": {},
   "outputs": [
    {
     "name": "stdout",
     "output_type": "stream",
     "text": [
      "        Minimum  Maximum\n",
      "km     -1.483975 2.637603\n",
      "price  -2.032224 1.483848\n"
     ]
    }
   ],
   "source": [
    "nData = normalize(data)\n",
    "print('        Minimum  Maximum')\n",
    "print('km    ', round(min(nData.km),6), round(max(nData.km),6))\n",
    "print('price ', round(min(nData.price),6), round(max(nData.price),6))"
   ]
  },
  {
   "cell_type": "code",
   "execution_count": 18,
   "metadata": {},
   "outputs": [
    {
     "name": "stdout",
     "output_type": "stream",
     "text": [
      "Theta0:   0.0\n",
      "Theta1:  -0.85614\n"
     ]
    },
    {
     "data": {
      "image/png": "[encoded data removed]",
      "text/plain": [
       "<Figure size 360x360 with 1 Axes>"
      ]
     },
     "metadata": {},
     "output_type": "display_data"
    }
   ],
   "source": [
    "t0, t1 = linreg(nData)\n",
    "print('Theta0:  ', round(t0, 5))\n",
    "print('Theta1: ', round(t1, 5))\n",
    "\n",
    "# Scatter plot\n",
    "sns.lmplot(x='km', y='price', data=nData, fit_reg=False)\n",
    "# Calculated regression line\n",
    "abline_values = [t1 * i + t0 for i in nData.km]\n",
    "plt.plot(nData.km, abline_values, 'orange')\n",
    "plt.show()"
   ]
  },
  {
   "cell_type": "markdown",
   "metadata": {},
   "source": [
    "### $tmp\\theta_0 = learningRate * \\frac{1}{m}\\sum_{i=0}^{m-1}estimatedPrice(mileage[i]) - price[i]$\n",
    "\n",
    "### $tmp\\theta_1 = learningRate * \\frac{1}{m}\\sum_{i=0}^{m-1}(estimatedPrice(mileage[i]) - price[i])*mileage[i]$"
   ]
  },
  {
   "cell_type": "markdown",
   "metadata": {},
   "source": [
    "# Not working clean version with lambda functions"
   ]
  },
  {
   "cell_type": "code",
   "execution_count": 91,
   "metadata": {},
   "outputs": [],
   "source": [
    "# Initial starting values of Theta0 and Theta1\n",
    "cur_t0, cur_t1 = 0, 0\n",
    "# learning rate\n",
    "rate = 0.01\n",
    "# When do we stop the algorithm\n",
    "precision = 0.000001\n",
    "previous_step_size = 1\n",
    "max_iters = 10000\n",
    "# counter\n",
    "iters = 0\n",
    "printcount = 0\n",
    "# Number of observations\n",
    "m = len(nData.km)\n",
    "# Gradient function\n",
    "tmp0 = lambda x: (1/m)*sum(estimatedPrice(x.km) - x.price)\n",
    "tmp1 = lambda x: (1/m)*sum((estimatedPrice(x.km) - x.price)*x.km)"
   ]
  },
  {
   "cell_type": "code",
   "execution_count": 92,
   "metadata": {},
   "outputs": [
    {
     "name": "stdout",
     "output_type": "stream",
     "text": [
      "Iteration:  0 \n",
      "t0  0.0  t1 -0.0082047\n",
      "Iteration:  100 \n",
      "t0  0.0  t1 -0.8286716\n",
      "Iteration:  200 \n",
      "t0  0.0  t1 -1.6491386\n",
      "Iteration:  300 \n",
      "t0  0.0  t1 -2.4696055\n",
      "Iteration:  400 \n",
      "t0  0.0  t1 -3.2900724\n",
      "Iteration:  500 \n",
      "t0  0.0  t1 -4.1105394\n",
      "Iteration:  600 \n",
      "t0  0.0  t1 -4.9310063\n",
      "Iteration:  700 \n",
      "t0  0.0  t1 -5.7514733\n",
      "Iteration:  800 \n",
      "t0  0.0  t1 -6.5719402\n",
      "Iteration:  900 \n",
      "t0  0.0  t1 -7.3924072\n",
      "Iteration:  1000 \n",
      "t0  0.0  t1 -8.2128741\n",
      "Iteration:  1100 \n",
      "t0  0.0  t1 -9.0333411\n",
      "Iteration:  1200 \n",
      "t0  0.0  t1 -9.853808\n",
      "Iteration:  1300 \n",
      "t0  0.0  t1 -10.674275\n",
      "Iteration:  1400 \n",
      "t0  0.0  t1 -11.4947419\n",
      "Iteration:  1500 \n",
      "t0  0.0  t1 -12.3152088\n",
      "Iteration:  1600 \n",
      "t0  0.0  t1 -13.1356758\n",
      "Iteration:  1700 \n",
      "t0  0.0  t1 -13.9561427\n",
      "Iteration:  1800 \n",
      "t0  0.0  t1 -14.7766097\n",
      "Iteration:  1900 \n",
      "t0  0.0  t1 -15.5970766\n",
      "Iteration:  2000 \n",
      "t0  0.0  t1 -16.4175436\n",
      "Iteration:  2100 \n",
      "t0  0.0  t1 -17.2380105\n",
      "Iteration:  2200 \n",
      "t0  0.0  t1 -18.0584775\n",
      "Iteration:  2300 \n",
      "t0  0.0  t1 -18.8789444\n",
      "Iteration:  2400 \n",
      "t0  0.0  t1 -19.6994113\n",
      "Iteration:  2500 \n",
      "t0  0.0  t1 -20.5198783\n",
      "Iteration:  2600 \n",
      "t0  0.0  t1 -21.3403452\n",
      "Iteration:  2700 \n",
      "t0  0.0  t1 -22.1608122\n",
      "Iteration:  2800 \n",
      "t0  0.0  t1 -22.9812791\n",
      "Iteration:  2900 \n",
      "t0  0.0  t1 -23.8017461\n",
      "Iteration:  3000 \n",
      "t0  0.0  t1 -24.622213\n",
      "Iteration:  3100 \n",
      "t0  0.0  t1 -25.44268\n",
      "Iteration:  3200 \n",
      "t0  0.0  t1 -26.2631469\n",
      "Iteration:  3300 \n",
      "t0  0.0  t1 -27.0836139\n",
      "Iteration:  3400 \n",
      "t0  0.0  t1 -27.9040808\n",
      "Iteration:  3500 \n",
      "t0  0.0  t1 -28.7245477\n",
      "Iteration:  3600 \n",
      "t0  0.0  t1 -29.5450147\n",
      "Iteration:  3700 \n",
      "t0  0.0  t1 -30.3654816\n",
      "Iteration:  3800 \n",
      "t0  0.0  t1 -31.1859486\n",
      "Iteration:  3900 \n",
      "t0  0.0  t1 -32.0064155\n",
      "Iteration:  4000 \n",
      "t0  0.0  t1 -32.8268825\n",
      "Iteration:  4100 \n",
      "t0  0.0  t1 -33.6473494\n",
      "Iteration:  4200 \n",
      "t0  0.0  t1 -34.4678164\n",
      "Iteration:  4300 \n",
      "t0  0.0  t1 -35.2882833\n",
      "Iteration:  4400 \n",
      "t0  0.0  t1 -36.1087502\n",
      "Iteration:  4500 \n",
      "t0  0.0  t1 -36.9292172\n",
      "Iteration:  4600 \n",
      "t0  0.0  t1 -37.7496841\n",
      "Iteration:  4700 \n",
      "t0  0.0  t1 -38.5701511\n",
      "Iteration:  4800 \n",
      "t0  0.0  t1 -39.390618\n",
      "Iteration:  4900 \n",
      "t0  0.0  t1 -40.211085\n",
      "Iteration:  5000 \n",
      "t0  0.0  t1 -41.0315519\n",
      "Iteration:  5100 \n",
      "t0  0.0  t1 -41.8520189\n",
      "Iteration:  5200 \n",
      "t0  0.0  t1 -42.6724858\n",
      "Iteration:  5300 \n",
      "t0  0.0  t1 -43.4929528\n",
      "Iteration:  5400 \n",
      "t0  0.0  t1 -44.3134197\n",
      "Iteration:  5500 \n",
      "t0  0.0  t1 -45.1338866\n",
      "Iteration:  5600 \n",
      "t0  0.0  t1 -45.9543536\n",
      "Iteration:  5700 \n",
      "t0  0.0  t1 -46.7748205\n",
      "Iteration:  5800 \n",
      "t0  0.0  t1 -47.5952875\n",
      "Iteration:  5900 \n",
      "t0  0.0  t1 -48.4157544\n",
      "Iteration:  6000 \n",
      "t0  0.0  t1 -49.2362214\n",
      "Iteration:  6100 \n",
      "t0  0.0  t1 -50.0566883\n",
      "Iteration:  6200 \n",
      "t0  0.0  t1 -50.8771553\n",
      "Iteration:  6300 \n",
      "t0  0.0  t1 -51.6976222\n",
      "Iteration:  6400 \n",
      "t0  0.0  t1 -52.5180891\n",
      "Iteration:  6500 \n",
      "t0  0.0  t1 -53.3385561\n",
      "Iteration:  6600 \n",
      "t0  0.0  t1 -54.159023\n",
      "Iteration:  6700 \n",
      "t0  0.0  t1 -54.97949\n",
      "Iteration:  6800 \n",
      "t0  0.0  t1 -55.7999569\n",
      "Iteration:  6900 \n",
      "t0  0.0  t1 -56.6204239\n",
      "Iteration:  7000 \n",
      "t0  0.0  t1 -57.4408908\n",
      "Iteration:  7100 \n",
      "t0  0.0  t1 -58.2613578\n",
      "Iteration:  7200 \n",
      "t0  0.0  t1 -59.0818247\n",
      "Iteration:  7300 \n",
      "t0  0.0  t1 -59.9022916\n",
      "Iteration:  7400 \n",
      "t0  0.0  t1 -60.7227586\n",
      "Iteration:  7500 \n",
      "t0  0.0  t1 -61.5432255\n",
      "Iteration:  7600 \n",
      "t0  0.0  t1 -62.3636925\n",
      "Iteration:  7700 \n",
      "t0  0.0  t1 -63.1841594\n",
      "Iteration:  7800 \n",
      "t0  0.0  t1 -64.0046264\n",
      "Iteration:  7900 \n",
      "t0  0.0  t1 -64.8250933\n",
      "Iteration:  8000 \n",
      "t0  0.0  t1 -65.6455603\n",
      "Iteration:  8100 \n",
      "t0  0.0  t1 -66.4660272\n",
      "Iteration:  8200 \n",
      "t0  0.0  t1 -67.2864942\n",
      "Iteration:  8300 \n",
      "t0  0.0  t1 -68.1069611\n",
      "Iteration:  8400 \n",
      "t0  0.0  t1 -68.927428\n",
      "Iteration:  8500 \n",
      "t0  0.0  t1 -69.747895\n",
      "Iteration:  8600 \n",
      "t0  0.0  t1 -70.5683619\n",
      "Iteration:  8700 \n",
      "t0  0.0  t1 -71.3888289\n",
      "Iteration:  8800 \n",
      "t0  0.0  t1 -72.2092958\n",
      "Iteration:  8900 \n",
      "t0  0.0  t1 -73.0297628\n",
      "Iteration:  9000 \n",
      "t0  0.0  t1 -73.8502297\n",
      "Iteration:  9100 \n",
      "t0  0.0  t1 -74.6706967\n",
      "Iteration:  9200 \n",
      "t0  0.0  t1 -75.4911636\n",
      "Iteration:  9300 \n",
      "t0  0.0  t1 -76.3116305\n",
      "Iteration:  9400 \n",
      "t0  0.0  t1 -77.1320975\n",
      "Iteration:  9500 \n",
      "t0  0.0  t1 -77.9525644\n",
      "Iteration:  9600 \n",
      "t0  0.0  t1 -78.7730314\n",
      "Iteration:  9700 \n",
      "t0  0.0  t1 -79.5934983\n",
      "Iteration:  9800 \n",
      "t0  0.0  t1 -80.4139653\n",
      "Iteration:  9900 \n",
      "t0  0.0  t1 -81.2344322\n"
     ]
    }
   ],
   "source": [
    "while previous_step_size > precision and iters < max_iters:\n",
    "    prev_t0 = cur_t0\n",
    "    prev_t1 = cur_t1\n",
    "    \n",
    "    tmpt0 = cur_t0 - rate * tmp0(nData)\n",
    "    tmpt1 = cur_t1 - rate * tmp1(nData)\n",
    "    \n",
    "    cur_t0 = tmpt0\n",
    "    cur_t1 = tmpt1\n",
    "    \n",
    "    previous_step_size = ((cur_t0 - prev_t0)**2+(cur_t1 - prev_t1)**2)**(0.5)\n",
    "    \n",
    "    if(printcounter == 100 or iters == max_iters):\n",
    "        print('Iteration: ', iters, '\\nt0 ', round(cur_t0,7), ' t1', round(cur_t1,7))\n",
    "        printcounter = 0\n",
    "        \n",
    "    iters += 1\n",
    "    printcounter += 1"
   ]
  },
  {
   "cell_type": "markdown",
   "metadata": {},
   "source": [
    "# Working Version"
   ]
  },
  {
   "cell_type": "code",
   "execution_count": 101,
   "metadata": {},
   "outputs": [
    {
     "name": "stdout",
     "output_type": "stream",
     "text": [
      "   0 0\n",
      "100 0.0 -0.52929694\n",
      "200 0.0 -0.73136301\n",
      "300 0.0 -0.80850438\n",
      "400 0.0 -0.83795412\n",
      "500 0.0 -0.84919694\n",
      "600 0.0 -0.85348904\n",
      "700 0.0 -0.8551276\n",
      "800 0.0 -0.85575315\n",
      "900 0.0 -0.85599196\n",
      "1000 0.0 -0.85608312\n",
      "1100 0.0 -0.85611793\n",
      "1200 0.0 -0.85613122\n",
      "1300 0.0 -0.85613629\n",
      "1400 0.0 -0.85613822\n",
      "1500 0.0 -0.85613896\n",
      "1600 0.0 -0.85613925\n",
      "1700 0.0 -0.85613935\n",
      "1800 0.0 -0.8561394\n",
      "1900 0.0 -0.85613941\n",
      "2000 0.0 -0.85613942\n",
      "2100 0.0 -0.85613942\n",
      "2200 0.0 -0.85613942\n"
     ]
    }
   ],
   "source": [
    "t0, t1 = 0, 0\n",
    "print('  ', round(t0,6), round(t1,6))\n",
    "printcounter = 0\n",
    "lr = 0.01\n",
    "m = len(nData.km)\n",
    "tmp1 = 10\n",
    "i = 0\n",
    "while tmp1-t1>0.0001 and i<2201:\n",
    "    tmp0 = lr/m*sum(estimatedPrice(nData.km) - nData.price)\n",
    "    tmp1 = lr/m*sum((estimatedPrice(nData.km) - nData.price)*nData.km)\n",
    "    \n",
    "    if(printcounter==100):\n",
    "        print(i, round(t0,8), round(t1,8))\n",
    "        printcounter = 0\n",
    "    \n",
    "    t0 = t0 - tmp0\n",
    "    t1 = t1 - tmp1\n",
    "    printcounter +=1\n",
    "    i += 1"
   ]
  },
  {
   "cell_type": "code",
   "execution_count": 95,
   "metadata": {},
   "outputs": [
    {
     "name": "stdout",
     "output_type": "stream",
     "text": [
      "Theta0:  0.0\n",
      "Theta1:  -0.84584\n"
     ]
    },
    {
     "data": {
      "image/png": "[encoded data removed]",
      "text/plain": [
       "<Figure size 360x360 with 1 Axes>"
      ]
     },
     "metadata": {},
     "output_type": "display_data"
    }
   ],
   "source": [
    "print('Theta0: ', round(t0, 5))\n",
    "print('Theta1: ', round(t1, 5))\n",
    "\n",
    "# Scatter plot\n",
    "sns.lmplot(x='km', y='price', data=nData, fit_reg=False)\n",
    "# Calculated regression line\n",
    "abline_values = [t1 * i + t0 for i in nData.km]\n",
    "plt.plot(nData.km, abline_values, 'orange')\n",
    "plt.show()"
   ]
  },
  {
   "cell_type": "code",
   "execution_count": null,
   "metadata": {},
   "outputs": [],
   "source": []
  },
  {
   "cell_type": "code",
   "execution_count": null,
   "metadata": {},
   "outputs": [],
   "source": []
  },
  {
   "cell_type": "code",
   "execution_count": null,
   "metadata": {},
   "outputs": [],
   "source": []
  },
  {
   "cell_type": "code",
   "execution_count": null,
   "metadata": {},
   "outputs": [],
   "source": []
  },
  {
   "cell_type": "code",
   "execution_count": null,
   "metadata": {},
   "outputs": [],
   "source": []
  },
  {
   "cell_type": "code",
   "execution_count": null,
   "metadata": {},
   "outputs": [],
   "source": []
  },
  {
   "cell_type": "code",
   "execution_count": null,
   "metadata": {},
   "outputs": [],
   "source": []
  },
  {
   "cell_type": "code",
   "execution_count": null,
   "metadata": {},
   "outputs": [],
   "source": []
  },
  {
   "cell_type": "code",
   "execution_count": null,
   "metadata": {},
   "outputs": [],
   "source": []
  },
  {
   "cell_type": "code",
   "execution_count": null,
   "metadata": {},
   "outputs": [],
   "source": []
  },
  {
   "cell_type": "code",
   "execution_count": null,
   "metadata": {},
   "outputs": [],
   "source": []
  },
  {
   "cell_type": "code",
   "execution_count": null,
   "metadata": {},
   "outputs": [],
   "source": []
  },
  {
   "cell_type": "code",
   "execution_count": null,
   "metadata": {},
   "outputs": [],
   "source": []
  },
  {
   "cell_type": "code",
   "execution_count": null,
   "metadata": {},
   "outputs": [],
   "source": []
  },
  {
   "cell_type": "code",
   "execution_count": null,
   "metadata": {},
   "outputs": [],
   "source": []
  },
  {
   "cell_type": "code",
   "execution_count": null,
   "metadata": {},
   "outputs": [],
   "source": []
  },
  {
   "cell_type": "code",
   "execution_count": null,
   "metadata": {},
   "outputs": [],
   "source": []
  },
  {
   "cell_type": "code",
   "execution_count": null,
   "metadata": {},
   "outputs": [],
   "source": []
  }
 ],
 "metadata": {
  "kernelspec": {
   "display_name": "Python 3",
   "language": "python",
   "name": "python3"
  },
  "language_info": {
   "codemirror_mode": {
    "name": "ipython",
    "version": 3
   },
   "file_extension": ".py",
   "mimetype": "text/x-python",
   "name": "python",
   "nbconvert_exporter": "python",
   "pygments_lexer": "ipython3",
   "version": "3.6.5"
  }
 },
 "nbformat": 4,
 "nbformat_minor": 1
}
