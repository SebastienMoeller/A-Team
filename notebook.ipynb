{
 "cells": [
  {
   "cell_type": "markdown",
   "metadata": {},
   "source": [
    "# FT_Linear_Regression\n",
    "### An Introduction to Machine Learning"
   ]
  },
  {
   "cell_type": "markdown",
   "metadata": {},
   "source": [
    "# Assignment"
   ]
  },
  {
   "cell_type": "markdown",
   "metadata": {},
   "source": [
    "### 1.\n",
    "Predict the price of a car for a given mileage. When you launch the program, it should prompt you for a mileage, and then give you back the estimated price for that mileage. The programm will use the following hypothesis\n",
    "\n",
    "$estimatedPrice(mileage) = \\theta_0 + (\\theta_1 * mileage)$"
   ]
  },
  {
   "cell_type": "code",
   "execution_count": 51,
   "metadata": {},
   "outputs": [],
   "source": [
    "t0 = 10\n",
    "t1 = 10"
   ]
  },
  {
   "cell_type": "code",
   "execution_count": 52,
   "metadata": {},
   "outputs": [
    {
     "data": {
      "text/plain": [
       "349873500"
      ]
     },
     "execution_count": 52,
     "metadata": {},
     "output_type": "execute_result"
    }
   ],
   "source": [
    "def estimatedPrice(mileage):\n",
    "    return(t0 + t1*mileage)\n",
    "\n",
    "\n",
    "estimatedPrice(34987349)"
   ]
  },
  {
   "cell_type": "markdown",
   "metadata": {},
   "source": [
    "### 2.\n",
    "Read the data, perform a linear regression and save the variables $\\theta_0$ and $\\theta_1$ for part 1.\n",
    "\n",
    "You will use the following formulas and choose a value for $m$:\n",
    "\n",
    "$tmp\\theta_0 = learningRate * \\frac{1}{m}\\sum_{i=0}^{m-1}(estimatedPrice(mileage[i] - price[i])$\n",
    "\n",
    "$tmp\\theta_1 = learningRate * \\frac{1}{m}\\sum_{i=0}^{m-1}(estimatedPrice(mileage[i] - price[i])*mileage[i]$\n",
    "\n",
    "Don't forget to simultaneously update $\\theta_0$ and $\\theta_1$"
   ]
  },
  {
   "cell_type": "code",
   "execution_count": 53,
   "metadata": {},
   "outputs": [],
   "source": [
    "import pandas as pd\n",
    "data = pd.read_csv('data.csv')"
   ]
  },
  {
   "cell_type": "markdown",
   "metadata": {},
   "source": [
    "## Linear Regression from scratch\n",
    "### $Y = \\theta_0 + \\theta_1X$\n",
    "## $\\theta_1 = \\frac{\\sum_{i=1}^{m}(x_i-\\bar{x})(y_i-\\bar{y})}{\\sum_{i=1}^{m}(x_i-\\bar{x})^2}$\n",
    "### $\\theta_0 = \\bar{y}-\\theta_1\\bar{x}$"
   ]
  },
  {
   "cell_type": "code",
   "execution_count": 54,
   "metadata": {},
   "outputs": [],
   "source": [
    "def linreg(data):\n",
    "    X = data.km\n",
    "    Y = data.price\n",
    "    \n",
    "    x_bar = sum(X)/len(X)\n",
    "    y_bar = sum(Y)/len(Y)\n",
    "    \n",
    "    t1 = sum((X-x_bar)*(Y-y_bar))/sum((X-x_bar)*(X-x_bar))\n",
    "    t0 = y_bar - t1*x_bar\n",
    "    \n",
    "    return(t0, t1)"
   ]
  },
  {
   "cell_type": "code",
   "execution_count": 55,
   "metadata": {},
   "outputs": [],
   "source": [
    "t0, t1 = linreg(data)"
   ]
  },
  {
   "cell_type": "code",
   "execution_count": 56,
   "metadata": {},
   "outputs": [
    {
     "data": {
      "text/plain": [
       "8285.110014016193"
      ]
     },
     "execution_count": 56,
     "metadata": {},
     "output_type": "execute_result"
    }
   ],
   "source": [
    "estimatedPrice(10000)"
   ]
  },
  {
   "cell_type": "code",
   "execution_count": 57,
   "metadata": {},
   "outputs": [
    {
     "data": {
      "text/plain": [
       "(8499.599649933216, -0.0214489635917023)"
      ]
     },
     "execution_count": 57,
     "metadata": {},
     "output_type": "execute_result"
    }
   ],
   "source": [
    "linreg(data)"
   ]
  },
  {
   "cell_type": "code",
   "execution_count": null,
   "metadata": {},
   "outputs": [],
   "source": []
  },
  {
   "cell_type": "code",
   "execution_count": null,
   "metadata": {},
   "outputs": [],
   "source": []
  },
  {
   "cell_type": "code",
   "execution_count": null,
   "metadata": {},
   "outputs": [],
   "source": []
  }
 ],
 "metadata": {
  "kernelspec": {
   "display_name": "Python 3",
   "language": "python",
   "name": "python3"
  },
  "language_info": {
   "codemirror_mode": {
    "name": "ipython",
    "version": 3
   },
   "file_extension": ".py",
   "mimetype": "text/x-python",
   "name": "python",
   "nbconvert_exporter": "python",
   "pygments_lexer": "ipython3",
   "version": "3.6.2"
  }
 },
 "nbformat": 4,
 "nbformat_minor": 1
}
