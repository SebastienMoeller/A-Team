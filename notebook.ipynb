{
 "cells": [
  {
   "cell_type": "markdown",
   "metadata": {},
   "source": [
    "# FT_Linear_Regression\n",
    "### An Introduction to Machine Learning"
   ]
  },
  {
   "cell_type": "markdown",
   "metadata": {},
   "source": [
    "# Assignment"
   ]
  },
  {
   "cell_type": "markdown",
   "metadata": {},
   "source": [
    "### 1.\n",
    "Predict the price of a car for a given mileage. When you launch the program, it should prompt you for a mileage, and then give you back the estimated price for that mileage. The programm will use the following hypothesis\n",
    "\n",
    "### $estimatedPrice(mileage) = \\theta_0 + (\\theta_1 * mileage)$"
   ]
  },
  {
   "cell_type": "code",
   "execution_count": 64,
   "metadata": {},
   "outputs": [],
   "source": [
    "t0 = 8000\n",
    "t1 = -2"
   ]
  },
  {
   "cell_type": "code",
   "execution_count": 65,
   "metadata": {},
   "outputs": [
    {
     "data": {
      "text/plain": [
       "-69966698"
      ]
     },
     "execution_count": 65,
     "metadata": {},
     "output_type": "execute_result"
    }
   ],
   "source": [
    "def estimatedPrice(mileage):\n",
    "    return(t0 + t1*mileage)\n",
    "\n",
    "def promptUser():\n",
    "    tmp = float(input('Mileage '))\n",
    "    print('Estimated Price: ', round(estimatedPrice(tmp),2), '$')"
   ]
  },
  {
   "cell_type": "code",
   "execution_count": 104,
   "metadata": {},
   "outputs": [
    {
     "name": "stdout",
     "output_type": "stream",
     "text": [
      "Mileage 121654\n",
      "Estimated Price:  5890.25 $\n"
     ]
    }
   ],
   "source": [
    "promptUser()"
   ]
  },
  {
   "cell_type": "markdown",
   "metadata": {},
   "source": [
    "### 2.\n",
    "Read the data, perform a linear regression and save the variables $\\theta_0$ and $\\theta_1$ for part 1.\n",
    "\n",
    "You will use the following formulas and choose a value for $m$:\n",
    "\n",
    "### $tmp\\theta_0 = learningRate * \\frac{1}{m}\\sum_{i=0}^{m-1}(estimatedPrice(mileage[i] - price[i])$\n",
    "\n",
    "### $tmp\\theta_1 = learningRate * \\frac{1}{m}\\sum_{i=0}^{m-1}(estimatedPrice(mileage[i] - price[i])*mileage[i]$\n",
    "\n",
    "Don't forget to simultaneously update $\\theta_0$ and $\\theta_1$"
   ]
  },
  {
   "cell_type": "code",
   "execution_count": 66,
   "metadata": {},
   "outputs": [],
   "source": [
    "import pandas as pd\n",
    "data = pd.read_csv('data.csv')"
   ]
  },
  {
   "cell_type": "markdown",
   "metadata": {},
   "source": [
    "## Linear Regression from scratch\n",
    "### $Y = \\theta_0 + \\theta_1X$\n",
    "## $\\theta_1 = \\frac{\\sum_{i=1}^{m}(x_i-\\bar{x})(y_i-\\bar{y})}{\\sum_{i=1}^{m}(x_i-\\bar{x})^2}$\n",
    "### $\\theta_0 = \\bar{y}-\\theta_1\\bar{x}$"
   ]
  },
  {
   "cell_type": "code",
   "execution_count": 67,
   "metadata": {},
   "outputs": [],
   "source": [
    "def linreg(data):\n",
    "    X = data.km\n",
    "    Y = data.price\n",
    "    \n",
    "    x_bar = sum(X)/len(X)\n",
    "    y_bar = sum(Y)/len(Y)\n",
    "    \n",
    "    t1 = sum((X-x_bar)*(Y-y_bar))/sum((X-x_bar)*(X-x_bar))\n",
    "    t0 = y_bar - t1*x_bar\n",
    "    \n",
    "    return(t0, t1)"
   ]
  },
  {
   "cell_type": "code",
   "execution_count": 68,
   "metadata": {},
   "outputs": [
    {
     "data": {
      "text/plain": [
       "(8499.599649933216, -0.0214489635917023)"
      ]
     },
     "execution_count": 68,
     "metadata": {},
     "output_type": "execute_result"
    }
   ],
   "source": [
    "t0, t1 = linreg(data)\n",
    "t0, t1"
   ]
  },
  {
   "cell_type": "code",
   "execution_count": 121,
   "metadata": {},
   "outputs": [],
   "source": [
    "%matplotlib inline\n",
    "import matplotlib.pyplot as plt\n",
    "\n",
    "abline_values = [t1 * i + t0 for i in data.km]"
   ]
  },
  {
   "cell_type": "code",
   "execution_count": 130,
   "metadata": {},
   "outputs": [
    {
     "data": {
      "image/png": "[encoded data removed]",
      "text/plain": [
       "<Figure size 432x288 with 1 Axes>"
      ]
     },
     "metadata": {
      "needs_background": "light"
     },
     "output_type": "display_data"
    }
   ],
   "source": [
    "plt.scatter(data.km, data.price)\n",
    "plt.plot(data.km, abline_values, 'r')\n",
    "plt.title('Data')\n",
    "plt.xlabel('km')\n",
    "plt.ylabel('Price ($)')\n",
    "plt.show()"
   ]
  },
  {
   "cell_type": "code",
   "execution_count": null,
   "metadata": {},
   "outputs": [],
   "source": []
  },
  {
   "cell_type": "code",
   "execution_count": 86,
   "metadata": {},
   "outputs": [
    {
     "name": "stdout",
     "output_type": "stream",
     "text": [
      "t0:  8499.59965\n",
      "t1: -0.02144896\n",
      "lr:  0.01\n"
     ]
    }
   ],
   "source": [
    "learningRate = 0.01\n",
    "print(\"t0: \", round(t0,5))\n",
    "print(\"t1:\", round(t1, 8))\n",
    "print(\"lr: \", learningRate)"
   ]
  },
  {
   "cell_type": "code",
   "execution_count": 98,
   "metadata": {},
   "outputs": [
    {
     "name": "stdout",
     "output_type": "stream",
     "text": [
      "Mileage 555464\n",
      "Estimated Price:  -3414.5274625681104\n"
     ]
    }
   ],
   "source": []
  },
  {
   "cell_type": "code",
   "execution_count": 95,
   "metadata": {},
   "outputs": [
    {
     "data": {
      "text/plain": [
       "5.0"
      ]
     },
     "execution_count": 95,
     "metadata": {},
     "output_type": "execute_result"
    }
   ],
   "source": [
    "tmp"
   ]
  },
  {
   "cell_type": "code",
   "execution_count": null,
   "metadata": {},
   "outputs": [],
   "source": []
  },
  {
   "cell_type": "code",
   "execution_count": null,
   "metadata": {},
   "outputs": [],
   "source": []
  },
  {
   "cell_type": "code",
   "execution_count": null,
   "metadata": {},
   "outputs": [],
   "source": []
  }
 ],
 "metadata": {
  "kernelspec": {
   "display_name": "Python 3",
   "language": "python",
   "name": "python3"
  },
  "language_info": {
   "codemirror_mode": {
    "name": "ipython",
    "version": 3
   },
   "file_extension": ".py",
   "mimetype": "text/x-python",
   "name": "python",
   "nbconvert_exporter": "python",
   "pygments_lexer": "ipython3",
   "version": "3.6.2"
  }
 },
 "nbformat": 4,
 "nbformat_minor": 1
}
